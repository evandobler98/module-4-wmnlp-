{
 "cells": [
  {
   "cell_type": "markdown",
   "metadata": {},
   "source": [
    "# Web Mining and Applied NLP (44-620)"
   ]
  },
  {
   "cell_type": "markdown",
   "metadata": {},
   "source": [
    "## Requests, JSON, and NLP"
   ]
  },
  {
   "cell_type": "markdown",
   "metadata": {},
   "source": [
    "### Student Name: Evan Dobler"
   ]
  },
  {
   "cell_type": "markdown",
   "metadata": {},
   "source": [
    "Perform the tasks described in the Markdown cells below. When you have completed the assignment make sure your code cells have all been run (and have output beneath them) and ensure you have committed and pushed ALL of your changes to your assignment repository.\n",
    "\n",
    "Make sure you have installed spaCy and its pipeline and spaCyTextBlob\n",
    "\n",
    "Every question that requires you to write code will have a code cell underneath it; you may either write your entire solution in that cell or write it in a python file (.py), then import and run the appropriate code to answer the question.\n",
    "\n",
    "This assignment requires that you write additional files (either JSON or pickle files); make sure to submit those files in your repository as well."
   ]
  },
  {
   "cell_type": "markdown",
   "metadata": {},
   "source": [
    "1. The following code accesses the lyrics.ovh public api, searches for the lyrics of a song, and stores it in a dictionary object. Write the resulting json to a file (either a JSON file or a pickle file; you choose). You will read in the contents of this file for future questions so we do not need to frequently access the API."
   ]
  },
  {
   "cell_type": "code",
   "execution_count": 26,
   "metadata": {},
   "outputs": [],
   "source": [
    "import json\n",
    "import pickle\n",
    "\n",
    "import requests\n",
    "import spacy\n",
    "from spacytextblob.spacytextblob import SpacyTextBlob\n",
    "\n",
    "result = json.loads(requests.get('https://api.lyrics.ovh/v1/Lynyrd Skynyrd/Free Bird').text)\n",
    "\n",
    "#Dump song lyrics into json file\n",
    "with open('free_bird.json', 'w') as json_file:\n",
    "    json.dump(result, json_file)\n",
    "\n",
    "#open json file to use lyrics\n",
    "with open('free_bird.json', 'r') as json_file:\n",
    "    data = json.load(json_file)"
   ]
  },
  {
   "cell_type": "markdown",
   "metadata": {},
   "source": [
    "2. Read in the contents of your file. Print the lyrics of the song (not the entire dictionary!) and use spaCyTextBlob to perform sentiment analysis on the lyrics. Print the polarity score of the sentiment analysis. Given that the range of the polarity score is [-1.0,1.0] which corresponds to how positive or negative the text in question is, do you think the lyrics have a more positive or negative connotaion? Answer this question in a comment in your code cell."
   ]
  },
  {
   "cell_type": "code",
   "execution_count": 27,
   "metadata": {},
   "outputs": [
    {
     "name": "stdout",
     "output_type": "stream",
     "text": [
      "Lyrics of 'Free Bird':\n",
      "If I leave here tomorrow\n",
      "Would you still remember me?\n",
      "For I must be traveling on now\n",
      "'Cause there's too many places I've got to see.\n",
      "But if I stayed here with you, girl,\n",
      "\n",
      "Things just couldn't be the same.\n",
      "\n",
      "'Cause I'm as free as a bird now,\n",
      "\n",
      "And this bird you can not change, oh, oh, oh, oh.\n",
      "\n",
      "And this bird you can not change.\n",
      "\n",
      "And this bird you can not change.\n",
      "\n",
      "Lord knows I can't change.\n",
      "\n",
      "\n",
      "\n",
      "Bye, bye, baby, it's been a sweet love, yeah,\n",
      "\n",
      "Though this feeling I can't change.\n",
      "\n",
      "But please don't take it so badly,\n",
      "\n",
      "'Cause Lord knows I'm to blame.\n",
      "\n",
      "\n",
      "\n",
      "But if I stayed here with you, girl,\n",
      "\n",
      "Things just couldn't be the same.\n",
      "\n",
      "'Cause I'm as free as a bird now,\n",
      "\n",
      "And this bird you'll never change, oh, oh, oh, oh.\n",
      "\n",
      "And this bird you cannot change.\n",
      "\n",
      "And this bird you cannot change.\n",
      "\n",
      "Lord knows, I can't change.\n",
      "\n",
      "Lord, help me, I can't change.\n",
      "\n",
      "\n",
      "\n",
      "Lord, I can't change.\n",
      "\n",
      "Won't you fly high, free bird, yeah?\n",
      "\n",
      "Polarity Score: 0.25545454545454543\n",
      "The lyrics have a more positive connotation.\n"
     ]
    }
   ],
   "source": [
    "# Extract and print only the lyrics\n",
    "lyrics = data.get('lyrics', '')\n",
    "print(\"Lyrics of 'Free Bird':\")\n",
    "print(lyrics)\n",
    "\n",
    "# Load spaCy and add the spaCyTextBlob component for sentiment analysis\n",
    "nlp = spacy.load('en_core_web_sm')\n",
    "nlp.add_pipe('spacytextblob')\n",
    "\n",
    "# Perform sentiment analysis on the lyrics\n",
    "doc = nlp(lyrics)\n",
    "polarity = doc._.blob.polarity\n",
    "print(\"\\nPolarity Score:\", polarity)\n",
    "\n",
    "# Interpretation of the sentiment\n",
    "if polarity > 0:\n",
    "    print(\"The lyrics have a more positive connotation.\")\n",
    "elif polarity < 0:\n",
    "    print(\"The lyrics have a more negative connotation.\")\n",
    "else:\n",
    "    print(\"The lyrics have a neutral connotation.\")"
   ]
  },
  {
   "cell_type": "markdown",
   "metadata": {},
   "source": [
    "3. Write a function that takes an artist, song, and filename, accesses the lyrics.ovh api to get the song lyrics, and writes the results to the specified filename. Test this function by getting the lyrics to any four songs of your choice and storing them in different files."
   ]
  },
  {
   "cell_type": "code",
   "execution_count": 28,
   "metadata": {},
   "outputs": [
    {
     "name": "stdout",
     "output_type": "stream",
     "text": [
      "Lyrics for 'Free Bird' by Lynyrd Skynyrd saved to free_bird.json.\n",
      "Lyrics for 'Panama' by Van Halen saved to panama.json.\n",
      "Lyrics for 'Paint It Black' by The Rolling Stones saved to paint_it_black.json.\n",
      "Lyrics for 'Juke Box Hero' by Foreigner saved to juke_box_hero.json.\n"
     ]
    }
   ],
   "source": [
    "def fetch_and_save_lyrics(artist, song, filename):\n",
    "    try:\n",
    "        # Access API\n",
    "        response = requests.get(f'https://api.lyrics.ovh/v1/{artist}/{song}')\n",
    "        if response.status_code == 200:\n",
    "            result = response.json()\n",
    "            # Save song lyrics \n",
    "            with open(filename, 'w') as file:\n",
    "                json.dump(result, file)\n",
    "            print(f\"Lyrics for '{song}' by {artist} saved to {filename}.\")\n",
    "        else:\n",
    "            print(f\"Error fetching lyrics for '{song}' by {artist}: {response.status_code}\")\n",
    "    except Exception as e:\n",
    "        print(f\"An error occurred: {e}\")\n",
    "\n",
    "# Test the function with four different songs\n",
    "fetch_and_save_lyrics(\"Lynyrd Skynyrd\", \"Free Bird\", \"free_bird.json\")\n",
    "fetch_and_save_lyrics(\"Van Halen\", \"Panama\", \"panama.json\")\n",
    "fetch_and_save_lyrics(\"The Rolling Stones\", \"Paint It Black\", \"paint_it_black.json\")\n",
    "fetch_and_save_lyrics(\"Foreigner\", \"Juke Box Hero\", \"juke_box_hero.json\")\n"
   ]
  },
  {
   "cell_type": "markdown",
   "metadata": {},
   "source": [
    "4. Write a function that takes the name of a file that contains song lyrics, loads the file, performs sentiment analysis, and returns the polarity score. Use this function to print the polarity scores (with the name of the song) of the three files you created in question 3. Does the reported polarity match your understanding of the song's lyrics? Why or why not do you think that might be? Answer the questions in either a comment in the code cell or a markdown cell under the code cell."
   ]
  },
  {
   "cell_type": "code",
   "execution_count": 29,
   "metadata": {},
   "outputs": [
    {
     "name": "stdout",
     "output_type": "stream",
     "text": [
      "Sentiment Analysis Results:\n",
      "'Free Bird' by Lynyrd Skynyrd: Polarity Score = 0.25545454545454543\n",
      "The lyrics have a more positive connotation.\n",
      "\n",
      "'Panama' by Van Halen: Polarity Score = 0.07734593837535014\n",
      "The lyrics have a more positive connotation.\n",
      "\n",
      "'Paint It Black' by The Rolling Stones: Polarity Score = -0.03679653679653679\n",
      "The lyrics have a more negative connotation.\n",
      "\n",
      "'Juke Box Hero' by Foreigner: Polarity Score = 0.14722222222222223\n",
      "The lyrics have a more positive connotation.\n",
      "\n"
     ]
    }
   ],
   "source": [
    "def analyze_lyrics_sentiment(filename):\n",
    "    try:\n",
    "        # Load the song lyrics from the file\n",
    "        with open(filename, 'r') as file:\n",
    "            data = json.load(file)\n",
    "        lyrics = data.get('lyrics', '')\n",
    "        \n",
    "        # Perform sentiment analysis\n",
    "        nlp = spacy.load('en_core_web_sm')\n",
    "        nlp.add_pipe('spacytextblob')\n",
    "        doc = nlp(lyrics)\n",
    "        \n",
    "        return doc._.blob.polarity\n",
    "    except Exception as e:\n",
    "        print(f\"An error occurred: {e}\")\n",
    "        return None\n",
    "\n",
    "# Test the function with the files created earlier\n",
    "songs = [\n",
    "    (\"Lynyrd Skynyrd\", \"Free Bird\", \"free_bird.json\"),\n",
    "    (\"Van Halen\", \"Panama\", \"panama.json\"),\n",
    "    (\"The Rolling Stones\", \"Paint It Black\", \"paint_it_black.json\"),\n",
    "    (\"Foreigner\", \"Juke Box Hero\", \"juke_box_hero.json\")\n",
    "]\n",
    "\n",
    "print(\"Sentiment Analysis Results:\")\n",
    "for artist, song, file in songs:\n",
    "    polarity = analyze_lyrics_sentiment(file)\n",
    "    print(f\"'{song}' by {artist}: Polarity Score = {polarity}\")\n",
    "    if polarity > 0:\n",
    "        print(\"The lyrics have a more positive connotation.\")\n",
    "    elif polarity < 0:\n",
    "        print(\"The lyrics have a more negative connotation.\")\n",
    "    else:\n",
    "        print(\"The lyrics have a neutral connotation.\")\n",
    "    print()  # Better readability between song results"
   ]
  }
 ],
 "metadata": {
  "kernelspec": {
   "display_name": ".venv",
   "language": "python",
   "name": "python3"
  },
  "language_info": {
   "codemirror_mode": {
    "name": "ipython",
    "version": 3
   },
   "file_extension": ".py",
   "mimetype": "text/x-python",
   "name": "python",
   "nbconvert_exporter": "python",
   "pygments_lexer": "ipython3",
   "version": "3.12.4"
  }
 },
 "nbformat": 4,
 "nbformat_minor": 2
}
